{
  "nbformat": 4,
  "nbformat_minor": 0,
  "metadata": {
    "kernelspec": {
      "display_name": "Python 3",
      "language": "python",
      "name": "python3"
    },
    "language_info": {
      "codemirror_mode": {
        "name": "ipython",
        "version": 3
      },
      "file_extension": ".py",
      "mimetype": "text/x-python",
      "name": "python",
      "nbconvert_exporter": "python",
      "pygments_lexer": "ipython3",
      "version": "3.7.6"
    },
    "colab": {
      "name": "Numpy_Online.ipynb",
      "provenance": [],
      "include_colab_link": true
    }
  },
  "cells": [
    {
      "cell_type": "markdown",
      "metadata": {
        "id": "view-in-github",
        "colab_type": "text"
      },
      "source": [
        "<a href=\"https://colab.research.google.com/github/arnabbiswasofficial07/hello--world/blob/master/Numpy_Online.ipynb\" target=\"_parent\"><img src=\"https://colab.research.google.com/assets/colab-badge.svg\" alt=\"Open In Colab\"/></a>"
      ]
    },
    {
      "cell_type": "markdown",
      "metadata": {
        "id": "ylJqyqOnMctJ",
        "colab_type": "text"
      },
      "source": [
        "# Welcome to Numpy!\n",
        "\n",
        "### Pre-requisites for this tutorial : \n",
        "* Basics of Python\n"
      ]
    },
    {
      "cell_type": "markdown",
      "metadata": {
        "id": "p_2OUuvCMctL",
        "colab_type": "text"
      },
      "source": [
        "## What is Numpy?\n",
        "\n",
        "***numpy*** is a Python library, adding support for large, multi-dimensional arrays and matrices, along with a large collection of high-level mathematical functions to operate on these arrays. numpy = numeric python.\n",
        "\n",
        "numpy works under the hood of many packages like pandas, scikit-learn and more. So fundamental understanding of how it works is important to have a hassle free experience with others. Join me in Learning"
      ]
    },
    {
      "cell_type": "markdown",
      "metadata": {
        "id": "J5m_csVHMctL",
        "colab_type": "text"
      },
      "source": [
        "## Importing package"
      ]
    },
    {
      "cell_type": "code",
      "metadata": {
        "id": "dnNcZfMLMctM",
        "colab_type": "code",
        "colab": {}
      },
      "source": [
        "import numpy as np"
      ],
      "execution_count": 0,
      "outputs": []
    },
    {
      "cell_type": "markdown",
      "metadata": {
        "id": "6A4417iSMctP",
        "colab_type": "text"
      },
      "source": [
        "np is an object for numpy package. If you don't want, class itself can be used as such.\n",
        "For eg., you can use, numpy.array()"
      ]
    },
    {
      "cell_type": "markdown",
      "metadata": {
        "id": "jfHCgT05MctP",
        "colab_type": "text"
      },
      "source": [
        "## Creating Arrays"
      ]
    },
    {
      "cell_type": "code",
      "metadata": {
        "id": "jQQKm5kiMctQ",
        "colab_type": "code",
        "colab": {},
        "outputId": "c3a2f2e4-bdf6-4b09-ffe7-5ac884cc45ef"
      },
      "source": [
        "arr1 = np.array([1,2,3,4,5,6])\n",
        "print(\"1D array: \", arr1)\n",
        "arr2 = np.array([[1,2,3],[4,5,6],[7,8,9]])\n",
        "print(\"2D array: \", \"\\n\",arr2)"
      ],
      "execution_count": 0,
      "outputs": [
        {
          "output_type": "stream",
          "text": [
            "1D array:  [1 2 3 4 5 6]\n",
            "2D array:  \n",
            " [[1 2 3]\n",
            " [4 5 6]\n",
            " [7 8 9]]\n"
          ],
          "name": "stdout"
        }
      ]
    },
    {
      "cell_type": "markdown",
      "metadata": {
        "id": "5-n2yFwaMctT",
        "colab_type": "text"
      },
      "source": [
        "## Understanding attributes of arrays"
      ]
    },
    {
      "cell_type": "code",
      "metadata": {
        "id": "yOl9JNEvMctU",
        "colab_type": "code",
        "colab": {},
        "outputId": "915f42a7-f81a-424e-cc20-063497d3b384"
      },
      "source": [
        "print(\"About arr2:\")\n",
        "print(\"Type\\t\\t:\" ,type(arr2))\n",
        "print(\"Datatype\\t:\",arr2.dtype)\n",
        "print(\"Shape\\t\\t:\", arr2.shape)\n",
        "print(\"Size\\t\\t:\",arr2.size)\n",
        "print(\"itemsize\\t:\",arr2.itemsize)\n",
        "print(\"No. of dim\\t:\",arr2.ndim)\n",
        "print(\"No. of bytes\\t:\", arr2.nbytes)"
      ],
      "execution_count": 0,
      "outputs": [
        {
          "output_type": "stream",
          "text": [
            "About arr2:\n",
            "Type\t\t: <class 'numpy.ndarray'>\n",
            "Datatype\t: int32\n",
            "Shape\t\t: (3, 3)\n",
            "Size\t\t: 9\n",
            "itemsize\t: 4\n",
            "No. of dim\t: 2\n",
            "No. of bytes\t: 36\n"
          ],
          "name": "stdout"
        }
      ]
    },
    {
      "cell_type": "markdown",
      "metadata": {
        "id": "Pem_3OH1MctX",
        "colab_type": "text"
      },
      "source": [
        "## Creating Special arrays"
      ]
    },
    {
      "cell_type": "code",
      "metadata": {
        "id": "pPV1i215MctX",
        "colab_type": "code",
        "colab": {},
        "outputId": "fdc13dce-fc71-4ac1-d81a-99a7a5396f84"
      },
      "source": [
        "arr3 = np.zeros((6,2), dtype=int)\n",
        "arr4 = np.ones((3,4),dtype=float)\n",
        "arr5 = np.eye(5,5)\n",
        "arr6 = np.random.rand(3,2)\n",
        "arr7 = np.random.randint(7,size=(2,6))\n",
        "print(\"Zero Array \\t:\\n\",arr3)\n",
        "print(\"Arrays with unit values\\t:\\n\",arr4)\n",
        "print(\"Identity matrix\\t:\\n\",arr5)\n",
        "print(\"Random array\\t\\n\",arr6)\n",
        "print(\"Random integer array\\t:\\n\" , arr7)"
      ],
      "execution_count": 0,
      "outputs": [
        {
          "output_type": "stream",
          "text": [
            "Zero Array \t:\n",
            " [[0 0]\n",
            " [0 0]\n",
            " [0 0]\n",
            " [0 0]\n",
            " [0 0]\n",
            " [0 0]]\n",
            "Arrays with unit values\t:\n",
            " [[1. 1. 1. 1.]\n",
            " [1. 1. 1. 1.]\n",
            " [1. 1. 1. 1.]]\n",
            "Identity matrix\t:\n",
            " [[1. 0. 0. 0. 0.]\n",
            " [0. 1. 0. 0. 0.]\n",
            " [0. 0. 1. 0. 0.]\n",
            " [0. 0. 0. 1. 0.]\n",
            " [0. 0. 0. 0. 1.]]\n",
            "Random array\t\n",
            " [[0.25728532 0.65799533]\n",
            " [0.49035217 0.73083235]\n",
            " [0.74856197 0.83953684]]\n",
            "Random integer array\t:\n",
            " [[2 3 5 6 1 1]\n",
            " [4 5 4 4 4 5]]\n"
          ],
          "name": "stdout"
        }
      ]
    },
    {
      "cell_type": "markdown",
      "metadata": {
        "id": "Sru0gcddMcta",
        "colab_type": "text"
      },
      "source": [
        "## Creating arrays using \"arange\")\n",
        "creates an array having elements from start to stop-1 in step of \"step\" value.\n",
        "Interval is known and set by developer(step).\n",
        "\n",
        "arange(start,stop,step)"
      ]
    },
    {
      "cell_type": "code",
      "metadata": {
        "id": "dkwxSN-zMctb",
        "colab_type": "code",
        "colab": {},
        "outputId": "b6d3df3d-15ed-436a-c26d-8c33989388f4"
      },
      "source": [
        "arr8 = np.arange(1,10,2)\n",
        "print(\"Array created with arange: \\t\\n\",arr8)"
      ],
      "execution_count": 0,
      "outputs": [
        {
          "output_type": "stream",
          "text": [
            "Array created with arange: \t\n",
            " [1 3 5 7 9]\n"
          ],
          "name": "stdout"
        }
      ]
    },
    {
      "cell_type": "markdown",
      "metadata": {
        "id": "jpAeMIvwMctf",
        "colab_type": "text"
      },
      "source": [
        "## Creating arrays using \"linspace\"\n",
        "linspace creates an array within the range.\n",
        "    Number of elements to be created is fixed and the interval between the elements is calculated by the system.\n",
        "    linspace will include the last value(stop)"
      ]
    },
    {
      "cell_type": "code",
      "metadata": {
        "id": "U-kGrRSuMctf",
        "colab_type": "code",
        "colab": {},
        "outputId": "2f185cc7-8198-43be-c273-5f5928a3f240"
      },
      "source": [
        "arr9 = np.linspace(1,500,5)\n",
        "print(\"Array created using linspace requesting 50 elements within 1 to 10:\\t\\n\",arr9)"
      ],
      "execution_count": 0,
      "outputs": [
        {
          "output_type": "stream",
          "text": [
            "Array created using linspace requesting 50 elements within 1 to 10:\t\n",
            " [  1.   125.75 250.5  375.25 500.  ]\n"
          ],
          "name": "stdout"
        }
      ]
    },
    {
      "cell_type": "markdown",
      "metadata": {
        "id": "u5mC3HBHMcti",
        "colab_type": "text"
      },
      "source": [
        "## Slicing \n",
        "\n",
        "Inside [], the dimensions are seperated by commas.\n",
        "For eg., arr9[3,4] represents the element in 4th row and 5th column\n",
        "![image.png](attachment:image.png)"
      ]
    },
    {
      "cell_type": "code",
      "metadata": {
        "id": "dF_wafQqMctj",
        "colab_type": "code",
        "colab": {},
        "outputId": "fc88a245-0bd7-444b-8ffd-3fde6eb7133c"
      },
      "source": [
        "arr10 = np.array([[1,2,3,4,5],[6,7,8,9,10],[11,12,13,14,15],[16,17,18,19,20]])\n",
        "print(arr10)\n",
        "print(\"Row 2:\",arr10[1,:])\n",
        "print(\"Column 2:\",arr10[:,3])\n",
        "print(\"Elements 7,8,12,13 :\\n\", arr10[1:3,1:3])\n",
        "print(\"All elements: \\n\",arr10[::])\n",
        "print(\"Strides:\\n\",arr10[0::2,1:3])"
      ],
      "execution_count": 0,
      "outputs": [
        {
          "output_type": "stream",
          "text": [
            "[[ 1  2  3  4  5]\n",
            " [ 6  7  8  9 10]\n",
            " [11 12 13 14 15]\n",
            " [16 17 18 19 20]]\n",
            "Row 2: [ 6  7  8  9 10]\n",
            "Column 2: [ 4  9 14 19]\n",
            "Elements 7,8,12,13 :\n",
            " [[ 7  8]\n",
            " [12 13]]\n",
            "All elements: \n",
            " [[ 1  2  3  4  5]\n",
            " [ 6  7  8  9 10]\n",
            " [11 12 13 14 15]\n",
            " [16 17 18 19 20]]\n",
            "Strides:\n",
            " [[ 2  3]\n",
            " [12 13]]\n"
          ],
          "name": "stdout"
        }
      ]
    },
    {
      "cell_type": "markdown",
      "metadata": {
        "id": "ucStsaW6Mctl",
        "colab_type": "text"
      },
      "source": [
        "## Masking - Important concept in Image processing"
      ]
    },
    {
      "cell_type": "code",
      "metadata": {
        "id": "g_iRF6RYMctm",
        "colab_type": "code",
        "colab": {},
        "outputId": "adc17514-484a-463e-a4d8-fb9507eab0ac"
      },
      "source": [
        "arr11 = np.array([1,2,3,4,5,6,7,8,9])\n",
        "mask = np.array([0,1,1,0,1,0,1,0,0],dtype=bool)\n",
        "print(arr11[mask])"
      ],
      "execution_count": 0,
      "outputs": [
        {
          "output_type": "stream",
          "text": [
            "[2 3 5 7]\n"
          ],
          "name": "stdout"
        }
      ]
    },
    {
      "cell_type": "markdown",
      "metadata": {
        "id": "D8trlXIjMctp",
        "colab_type": "text"
      },
      "source": [
        "## Some more methods"
      ]
    },
    {
      "cell_type": "code",
      "metadata": {
        "id": "ipudCyRoMctp",
        "colab_type": "code",
        "colab": {},
        "outputId": "1317a0ba-e4fb-47da-fe74-995da71dd459"
      },
      "source": [
        "arr12 = np.array([[1,2,3,4,5],[6,7,8,9,9]])\n",
        "print(arr12)\n",
        "print(\"Sum :\\t\",np.sum(arr12))\n",
        "print(\"Sum :\\t\",np.sum(arr12,axis=0))\n",
        "print(\"Prod :\\t\",np.prod(arr12))\n",
        "print(\"Prod :\\t\",np.prod(arr12,axis=0))\n",
        "print(\"Minimum :\\t\",np.min(arr12,axis=0))\n",
        "print(\"Maximum :\\t\",np.max(arr12,axis=0))\n",
        "print(\"Mean :\\t\",np.mean(arr12,axis=0))\n",
        "print(\"Variance:\\t\",np.var(arr12,axis=0))\n",
        "print(\"Standard Deviation:\\t\",np.std(arr12,axis=0))\n",
        "print(\"Average:\\t\",np.average(arr12,axis=0))\n",
        "print(\"Weighted Average:\\t\",np.average(arr12,weights=[1,2,3,4,5],axis=1))"
      ],
      "execution_count": 0,
      "outputs": [
        {
          "output_type": "stream",
          "text": [
            "[[1 2 3 4 5]\n",
            " [6 7 8 9 9]]\n",
            "Sum :\t 54\n",
            "Sum :\t [ 7  9 11 13 14]\n",
            "Prod :\t 3265920\n",
            "Prod :\t [ 6 14 24 36 45]\n",
            "Minimum :\t [1 2 3 4 5]\n",
            "Maximum :\t [6 7 8 9 9]\n",
            "Mean :\t [3.5 4.5 5.5 6.5 7. ]\n",
            "Variance:\t [6.25 6.25 6.25 6.25 4.  ]\n",
            "Standard Deviation:\t [2.5 2.5 2.5 2.5 2. ]\n",
            "Average:\t [3.5 4.5 5.5 6.5 7. ]\n",
            "Weighted Average:\t [3.66666667 8.33333333]\n"
          ],
          "name": "stdout"
        }
      ]
    },
    {
      "cell_type": "markdown",
      "metadata": {
        "id": "toBfHyUoMctt",
        "colab_type": "text"
      },
      "source": [
        "## Scalar Operations - Arithmetic"
      ]
    },
    {
      "cell_type": "code",
      "metadata": {
        "id": "SuUuHBfvMctt",
        "colab_type": "code",
        "colab": {},
        "outputId": "fecb5d9c-7819-4429-fac4-44a158f549e0"
      },
      "source": [
        "arr13 = np.array([1,2,3])\n",
        "arr14 = np.array([4,5,6])\n",
        "arr15 = arr13+arr14\n",
        "arr16 = arr13 - arr14\n",
        "print(\"Summation:\\t\",arr15)\n",
        "print(\"Difference:\\t\",arr16)\n",
        "\n",
        "arr16+=5\n",
        "print(\"Previous output after adding 5:\",arr16)\n",
        "\n",
        "###  Try other operations\n",
        "\n"
      ],
      "execution_count": 0,
      "outputs": [
        {
          "output_type": "stream",
          "text": [
            "Summation:\t [5 7 9]\n",
            "Difference:\t [-3 -3 -3]\n",
            "Previous output after adding 5: [2 2 2]\n"
          ],
          "name": "stdout"
        }
      ]
    },
    {
      "cell_type": "markdown",
      "metadata": {
        "id": "ozOaeW3RMctw",
        "colab_type": "text"
      },
      "source": [
        "## Relational Operations"
      ]
    },
    {
      "cell_type": "code",
      "metadata": {
        "id": "mCnY8kpRMctw",
        "colab_type": "code",
        "colab": {},
        "outputId": "2cf176e1-a1ff-4c72-b21d-7eca20fdd4e7"
      },
      "source": [
        "result1 = arr16 == arr15\n",
        "print(result1)\n",
        "\n",
        "### Try other relational operations <<result2 to result6\n"
      ],
      "execution_count": 0,
      "outputs": [
        {
          "output_type": "stream",
          "text": [
            "[False False False]\n"
          ],
          "name": "stdout"
        }
      ]
    },
    {
      "cell_type": "markdown",
      "metadata": {
        "id": "tkEuVpOWMct1",
        "colab_type": "text"
      },
      "source": [
        "## Trignometric & Logarithmic operations"
      ]
    },
    {
      "cell_type": "code",
      "metadata": {
        "id": "oXPwWvS4Mct1",
        "colab_type": "code",
        "colab": {},
        "outputId": "64be9c72-b2b3-41ba-d1dd-51915d613e35"
      },
      "source": [
        "arr17 = np.array([15,30,45,90])\n",
        "result7 = np.sin(arr17)\n",
        "print(\"Sin values:\\t\",result7)\n",
        "result8 = np.log(arr17)\n",
        "print(\"Log value:\\t\",result8)\n",
        "result9=np.cos(arr17)\n",
        "print(\"Cos values:\\t\",result9)\n",
        "\n",
        "### Try other operations"
      ],
      "execution_count": 0,
      "outputs": [
        {
          "output_type": "stream",
          "text": [
            "Sin values:\t [ 0.65028784 -0.98803162  0.85090352  0.89399666]\n",
            "Log value:\t [2.7080502  3.40119738 3.80666249 4.49980967]\n",
            "Cos values:\t [-0.75968791  0.15425145  0.52532199 -0.44807362]\n"
          ],
          "name": "stdout"
        }
      ]
    },
    {
      "cell_type": "markdown",
      "metadata": {
        "id": "xsXNr8wZMct4",
        "colab_type": "text"
      },
      "source": [
        "## Vector operations"
      ]
    },
    {
      "cell_type": "markdown",
      "metadata": {
        "id": "S5xH8EewMct5",
        "colab_type": "text"
      },
      "source": [
        "### Math - Scalar and Vector\n",
        "\n",
        "#### Scalar\n",
        "\n",
        "* np.add(a,1) -> Add 1 to each array element\n",
        "* np.subtract(a,2) -> Subtract 2 from each array element\n",
        "* np.multiply(a,3) -> Multiply each array element by 3\n",
        "* np.divide(a,4) -> Divide each array element by 4 (it returns np.nan for division by zero)\n",
        "* np.power(a,5) -> Raise each array element to the 5th power\n",
        "\n",
        "#### Vector Math\n",
        "\n",
        "* np.add(a1,a2) -> Elementwise add a2 to a1\n",
        "* np.subtract(a1,a2) -> Elementwise subtract a2 from a1\n",
        "* np.multiply(a1,a2) -> Elementwise multiply a1 by a2\n",
        "* np.divide(a1,a2) -> Elementwise divide a1 by a2\n",
        "* np.power(a1,a2) -> Elementwise raise a1 raised to the power of a2\n",
        "\n",
        "* np.array_equal(a1,a2) -> Returns True if the arrays have the same elements and shape *(Note - a1 == a2 -> Returns True if the arrays have the same elements)*\n",
        "* np.sqrt(a) -> Square root of each element in the array\n",
        "* np.round(a) -> Rounds to the nearest int"
      ]
    },
    {
      "cell_type": "code",
      "metadata": {
        "id": "Ai9LD6NNMct6",
        "colab_type": "code",
        "colab": {},
        "outputId": "6ace8672-b0f4-484e-e488-325d30215d8f"
      },
      "source": [
        "#Try them out\n",
        "a=np.array([1,2,3,4])\n",
        "np.add(a,1)\n",
        "#np.power(a,2)"
      ],
      "execution_count": 0,
      "outputs": [
        {
          "output_type": "execute_result",
          "data": {
            "text/plain": [
              "array([2, 3, 4, 5])"
            ]
          },
          "metadata": {
            "tags": []
          },
          "execution_count": 15
        }
      ]
    },
    {
      "cell_type": "markdown",
      "metadata": {
        "id": "5hjfcOe1Mct8",
        "colab_type": "text"
      },
      "source": [
        "### Statistical Analysis\n",
        "\n",
        "* np.mean(a) -> Returns mean along specific axis\n",
        "* np.sum(a) -> Returns sum of all values in a\n",
        "* a.min() -> Returns minimum value of a\n",
        "* a.max() -> Returns maximum value of specific axis\n",
        "\n",
        "A few more for you to discover - \n",
        "* np.var(a)\n",
        "* np.std(a)\n",
        "* arr.corrcoef()"
      ]
    },
    {
      "cell_type": "code",
      "metadata": {
        "id": "cRtGf5rZMct9",
        "colab_type": "code",
        "colab": {},
        "outputId": "571776af-16a2-4d52-8ec7-e7d600ea5a59"
      },
      "source": [
        "#Try them out\n",
        "a1=np.array([2,4,6,8])\n",
        "np.sum(a1)\n",
        "a1.min()\n",
        "np.var(a1)"
      ],
      "execution_count": 0,
      "outputs": [
        {
          "output_type": "execute_result",
          "data": {
            "text/plain": [
              "5.0"
            ]
          },
          "metadata": {
            "tags": []
          },
          "execution_count": 20
        }
      ]
    },
    {
      "cell_type": "markdown",
      "metadata": {
        "id": "qDEI0fxHMct_",
        "colab_type": "text"
      },
      "source": [
        "### Summation for thought - \n",
        "\n",
        "Are all these same?\n",
        "\n",
        "1. sum_value = np.sum(a)\n",
        "2. columnSum = np.sum(a, axis = 0)\n",
        "3. rowSum = np.sum(a, axis = 1)"
      ]
    },
    {
      "cell_type": "code",
      "metadata": {
        "id": "nu5NoTCFMcuA",
        "colab_type": "code",
        "colab": {},
        "outputId": "69ced0a7-c874-4f51-c529-4865acfeb9ed"
      },
      "source": [
        "#Try them out\n",
        "a=np.array([[1,2,3,4],[5,6,7,8]])\n",
        "s=np.sum(a)\n",
        "print(s)\n",
        "cs=np.sum(a,axis=0)\n",
        "print(cs)\n",
        "rs=np.sum(a,axis=1)\n",
        "print(rs)"
      ],
      "execution_count": 0,
      "outputs": [
        {
          "output_type": "stream",
          "text": [
            "36\n",
            "[ 6  8 10 12]\n",
            "[10 26]\n"
          ],
          "name": "stdout"
        }
      ]
    },
    {
      "cell_type": "markdown",
      "metadata": {
        "id": "UY-gYONzMcuE",
        "colab_type": "text"
      },
      "source": [
        "**From the results produced above, the answer is a big...**\n",
        "# NO\n",
        "\n",
        "\n",
        "1. Gives sum of all values\n",
        "2. Gives sum of columns\n",
        "3. Gives sum of rows\n",
        "\n",
        "The methods mentioned in Statistics column all have a parameter 'axis'. Try and find out how each time it performs a different function with changing values for 'axis'"
      ]
    },
    {
      "cell_type": "markdown",
      "metadata": {
        "id": "q9S36RBTMcuE",
        "colab_type": "text"
      },
      "source": [
        "## And with that, we wrap up numpy..."
      ]
    },
    {
      "cell_type": "markdown",
      "metadata": {
        "id": "54DL-b9VMcuF",
        "colab_type": "text"
      },
      "source": [
        "![That's all folks! See you in the next topic.](see-you.jpg)"
      ]
    }
  ]
}